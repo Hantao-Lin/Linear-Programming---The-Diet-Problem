{
  "nbformat": 4,
  "nbformat_minor": 0,
  "metadata": {
    "colab": {
      "provenance": []
    },
    "kernelspec": {
      "name": "python3",
      "display_name": "Python 3"
    },
    "language_info": {
      "name": "python"
    }
  },
  "cells": [
    {
      "cell_type": "code",
      "source": [
        "pip install pulp"
      ],
      "metadata": {
        "colab": {
          "base_uri": "https://localhost:8080/"
        },
        "id": "I6h1HheLA2uB",
        "outputId": "f40bbf69-b6a0-4761-e704-37f422dd1851"
      },
      "execution_count": 2,
      "outputs": [
        {
          "output_type": "stream",
          "name": "stdout",
          "text": [
            "Collecting pulp\n",
            "  Downloading PuLP-2.8.0-py3-none-any.whl (17.7 MB)\n",
            "\u001b[2K     \u001b[90m━━━━━━━━━━━━━━━━━━━━━━━━━━━━━━━━━━━━━━━━\u001b[0m \u001b[32m17.7/17.7 MB\u001b[0m \u001b[31m34.1 MB/s\u001b[0m eta \u001b[36m0:00:00\u001b[0m\n",
            "\u001b[?25hInstalling collected packages: pulp\n",
            "Successfully installed pulp-2.8.0\n"
          ]
        }
      ]
    },
    {
      "cell_type": "code",
      "source": [
        "from pulp import LpVariable, LpProblem, LpMaximize, LpStatus, value, LpMinimize"
      ],
      "metadata": {
        "id": "GerCoM28A8bS"
      },
      "execution_count": 3,
      "outputs": []
    },
    {
      "cell_type": "markdown",
      "source": [
        "# **No Variety**"
      ],
      "metadata": {
        "id": "qvOxwX6NERxy"
      }
    },
    {
      "cell_type": "code",
      "source": [
        "# define variables\n",
        "x1 = LpVariable(\"Spam\",0,None)\n",
        "x2 = LpVariable(\"Cereal\",0,None)\n",
        "x3 = LpVariable(\"Vegetable\",0,None)\n",
        "x4 = LpVariable(\"Fish\",0,None)\n",
        "x5 = LpVariable(\"Soy Milk\",0,None)"
      ],
      "metadata": {
        "id": "OfCZRKwMA8dv"
      },
      "execution_count": 19,
      "outputs": []
    },
    {
      "cell_type": "code",
      "source": [
        "# defines the problem\n",
        "prob = LpProblem(\"problem\", LpMinimize)"
      ],
      "metadata": {
        "id": "ow_p8dScA8gF"
      },
      "execution_count": 20,
      "outputs": []
    },
    {
      "cell_type": "code",
      "source": [
        "# define constraints\n",
        "prob += 790*x1 + 190*x2 + 210*x3 + 260*x4 + 95*x5 <= 35000\n",
        "prob += 180*x1 + 140*x2 + 45*x3 + 100*x4 + 100*x5 >= 14000\n",
        "prob += 7.41*x1 + 3*x2 + 2*x3 + 17*x4 + 7*x5 >= 350\n",
        "prob += 0*x1 + 4*x2 + 0*x3 + 15.9*x4 + 5*x5 >= 140\n",
        "prob += 7.84*x1 + 40*x2 + 22*x3 + 200*x4 + 300*x5 >= 9100\n",
        "prob += 0.5*x1 + 18*x2 + 1*x3 + 0.4*x4 + 1*x5 >= 126\n",
        "prob += 128.84*x1 + 150*x2 + 185*x3 + 280*x4 + 280*x5 >= 32900"
      ],
      "metadata": {
        "id": "6D8_IYoqA8iL"
      },
      "execution_count": 21,
      "outputs": []
    },
    {
      "cell_type": "code",
      "source": [
        "# define objective function\n",
        "prob += 0.9*x1 + 0.62*x2 + 0.86*x3 + 1.3*x4 + 0.62*x5"
      ],
      "metadata": {
        "id": "45tFdPBiC_fE"
      },
      "execution_count": 22,
      "outputs": []
    },
    {
      "cell_type": "code",
      "source": [
        "# solve the problem\n",
        "status = prob.solve()\n",
        "print(f\"Problem\")\n",
        "print(f\"status={LpStatus[status]}\")"
      ],
      "metadata": {
        "colab": {
          "base_uri": "https://localhost:8080/"
        },
        "id": "9VeFnlQYC_9r",
        "outputId": "09629bab-89b6-4c12-9beb-2ab1a16c30ce"
      },
      "execution_count": 23,
      "outputs": [
        {
          "output_type": "stream",
          "name": "stdout",
          "text": [
            "Problem\n",
            "status=Optimal\n"
          ]
        }
      ]
    },
    {
      "cell_type": "code",
      "source": [
        "# print the results\n",
        "for variable in prob.variables():\n",
        "    print(f\"{variable.name} = {variable.varValue}\")\n",
        "\n",
        "print(f\"Objective = {value(prob.objective)}\")\n",
        "print(f\"\")"
      ],
      "metadata": {
        "colab": {
          "base_uri": "https://localhost:8080/"
        },
        "id": "aBRo35vFDVW1",
        "outputId": "37d585c6-9710-43ac-8c33-a24629d95e6b"
      },
      "execution_count": 24,
      "outputs": [
        {
          "output_type": "stream",
          "name": "stdout",
          "text": [
            "Cereal = 26.033058\n",
            "Fish = 0.0\n",
            "Soy_Milk = 103.55372\n",
            "Spam = 0.0\n",
            "Vegetable = 0.0\n",
            "Objective = 80.34380236\n",
            "\n"
          ]
        }
      ]
    },
    {
      "cell_type": "markdown",
      "source": [
        "# **Each Food Consume at Least Once**"
      ],
      "metadata": {
        "id": "ursqOzjVEXuC"
      }
    },
    {
      "cell_type": "code",
      "source": [
        "# define variables\n",
        "x1 = LpVariable(\"Spam\",1,None)\n",
        "x2 = LpVariable(\"Cereal\",1,None)\n",
        "x3 = LpVariable(\"Vegetable\",1,None)\n",
        "x4 = LpVariable(\"Fish\",1,None)\n",
        "x5 = LpVariable(\"Soy Milk\",1,None)"
      ],
      "metadata": {
        "id": "BE46hww-EgCA"
      },
      "execution_count": 25,
      "outputs": []
    },
    {
      "cell_type": "code",
      "source": [
        "# defines the problem\n",
        "prob = LpProblem(\"problem\", LpMinimize)"
      ],
      "metadata": {
        "id": "10pzoWHdEf_v"
      },
      "execution_count": 26,
      "outputs": []
    },
    {
      "cell_type": "code",
      "source": [
        "# define constraints\n",
        "prob += 790*x1 + 190*x2 + 210*x3 + 260*x4 + 95*x5 <= 35000\n",
        "prob += 180*x1 + 140*x2 + 45*x3 + 100*x4 + 100*x5 >= 14000\n",
        "prob += 7.41*x1 + 3*x2 + 2*x3 + 17*x4 + 7*x5 >= 350\n",
        "prob += 0*x1 + 4*x2 + 0*x3 + 15.9*x4 + 5*x5 >= 140\n",
        "prob += 7.84*x1 + 40*x2 + 22*x3 + 200*x4 + 300*x5 >= 9100\n",
        "prob += 0.5*x1 + 18*x2 + 1*x3 + 0.4*x4 + 1*x5 >= 126\n",
        "prob += 128.84*x1 + 150*x2 + 185*x3 + 280*x4 + 280*x5 >= 32900"
      ],
      "metadata": {
        "id": "qlvoWTwOEf9i"
      },
      "execution_count": 27,
      "outputs": []
    },
    {
      "cell_type": "code",
      "source": [
        "# define objective function\n",
        "prob += 0.9*x1 + 0.62*x2 + 0.86*x3 + 1.3*x4 + 0.62*x5"
      ],
      "metadata": {
        "id": "PzqdZxn7Ef4b"
      },
      "execution_count": 28,
      "outputs": []
    },
    {
      "cell_type": "code",
      "source": [
        "# solve the problem\n",
        "status = prob.solve()\n",
        "print(f\"Problem\")\n",
        "print(f\"status={LpStatus[status]}\")"
      ],
      "metadata": {
        "colab": {
          "base_uri": "https://localhost:8080/"
        },
        "id": "tL1N0vtFEfpl",
        "outputId": "123401ce-5e96-4e38-e8ed-354284f21b42"
      },
      "execution_count": 29,
      "outputs": [
        {
          "output_type": "stream",
          "name": "stdout",
          "text": [
            "Problem\n",
            "status=Optimal\n"
          ]
        }
      ]
    },
    {
      "cell_type": "code",
      "source": [
        "# print the results\n",
        "for variable in prob.variables():\n",
        "    print(f\"{variable.name} = {variable.varValue}\")\n",
        "\n",
        "print(f\"Objective = {value(prob.objective)}\")\n",
        "print(f\"\")"
      ],
      "metadata": {
        "colab": {
          "base_uri": "https://localhost:8080/"
        },
        "id": "BaAZGLi-Ev03",
        "outputId": "888d139e-de61-4f74-8620-497a23279aae"
      },
      "execution_count": 33,
      "outputs": [
        {
          "output_type": "stream",
          "name": "stdout",
          "text": [
            "Cereal = 24.726612\n",
            "Fish = 1.0\n",
            "Soy_Milk = 102.13274\n",
            "Spam = 1.0\n",
            "Vegetable = 1.0\n",
            "Objective = 81.71279824\n",
            "\n"
          ]
        }
      ]
    }
  ]
}